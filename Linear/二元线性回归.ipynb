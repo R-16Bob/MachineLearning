{
 "cells": [
  {
   "cell_type": "markdown",
   "id": "8f50db13-39cc-43bd-8408-76a981b02c64",
   "metadata": {},
   "source": [
    "为了证明我已经完全理解线性回归的原理，接下来我自己实现二元函数$y=3x_1+4x_2+5$"
   ]
  },
  {
   "cell_type": "code",
   "execution_count": 1,
   "id": "0b095b8e-69f5-4936-95fb-d1abfa8ee223",
   "metadata": {},
   "outputs": [],
   "source": [
    "import numpy as np"
   ]
  },
  {
   "cell_type": "code",
   "execution_count": 3,
   "id": "4a4f9ca8-424a-4512-aa76-6b62c833f6eb",
   "metadata": {},
   "outputs": [],
   "source": [
    "# 生成数据样本\n",
    "np.random.seed(42)\n",
    "m = 100  # 样本数量\n",
    "X = 2 * np.random.rand(m, 2)  # 输入特征矩阵，形状 (100, 2)，范围 [0,2)\n",
    "true_W = np.array([[3], [4]])  # 真实权重：W1=3, W2=4\n",
    "true_b = 5                      # 真实偏置项：b=5\n",
    "\n",
    "# 生成带噪声的标签（真实关系：y = 3X1 + 4X2 + 5 + 噪声）\n",
    "y = X @ true_W + true_b + np.random.randn(m, 1) * 0.5"
   ]
  },
  {
   "cell_type": "markdown",
   "id": "b224ffdf-fb95-418c-b5cc-023b5581d4cb",
   "metadata": {},
   "source": [
    "X：mx2 W:2x1 这就是矩阵乘法"
   ]
  },
  {
   "cell_type": "code",
   "execution_count": 4,
   "id": "dcb299b5-eefd-4fa7-a44c-c060be635306",
   "metadata": {},
   "outputs": [],
   "source": [
    "# 2. 参数初始化\n",
    "W = np.zeros((2, 1))  # 权重矩阵形状变为 (2,1)\n",
    "b = 0.0\n",
    "learning_rate = 0.1\n",
    "epochs = 1000"
   ]
  },
  {
   "cell_type": "code",
   "execution_count": 6,
   "id": "5e4d43cc-1288-471e-bf8e-c14b1737c026",
   "metadata": {},
   "outputs": [
    {
     "data": {
      "text/plain": [
       "array([[0.],\n",
       "       [0.]])"
      ]
     },
     "execution_count": 6,
     "metadata": {},
     "output_type": "execute_result"
    }
   ],
   "source": [
    "W"
   ]
  },
  {
   "cell_type": "code",
   "execution_count": 7,
   "id": "f75d3a40-b91a-4937-83bb-0a6aeb91be91",
   "metadata": {},
   "outputs": [
    {
     "name": "stdout",
     "output_type": "stream",
     "text": [
      "epoch0, Loss:1.4892\n",
      "epoch100, Loss:0.0027\n",
      "epoch200, Loss:0.0025\n",
      "epoch300, Loss:0.0025\n",
      "epoch400, Loss:0.0025\n",
      "epoch500, Loss:0.0025\n",
      "epoch600, Loss:0.0025\n",
      "epoch700, Loss:0.0025\n",
      "epoch800, Loss:0.0025\n",
      "epoch900, Loss:0.0025\n"
     ]
    }
   ],
   "source": [
    "# 训练过程\n",
    "for epoch in range(epochs):\n",
    "    y_pred = X @ W +b\n",
    "    loss = np.mean((y_pred-y)**2)/m\n",
    "    # 计算梯度\n",
    "    error = y_pred - y\n",
    "    dW = (X.T @ error) / m\n",
    "    db = np.sum(error) / m\n",
    "    # 更新权重和偏置\n",
    "    W -= learning_rate * dW\n",
    "    b -= learning_rate * db\n",
    "    # 打印损失\n",
    "    if epoch % 100 == 0:\n",
    "        print(f\"epoch{epoch}, Loss:{loss:.4f}\")"
   ]
  },
  {
   "cell_type": "code",
   "execution_count": 11,
   "id": "8fd15dc7-f4ed-4dfe-8a85-82f4a6fb51b1",
   "metadata": {},
   "outputs": [
    {
     "name": "stdout",
     "output_type": "stream",
     "text": [
      "\n",
      "训练后的参数：\n",
      "W_1 = 3.0847, W_2 = 4.0887, b = 4.8861\n"
     ]
    }
   ],
   "source": [
    "# 输出训练后的参数\n",
    "print(\"\\n训练后的参数：\")\n",
    "print(f\"W_1 = {W[0][0]:.4f}, W_2 = {W[1][0]:.4f}, b = {b:.4f}\")"
   ]
  },
  {
   "cell_type": "code",
   "execution_count": 12,
   "id": "d3762682-4a44-49e7-ba4c-b4c4e4b6ff0b",
   "metadata": {},
   "outputs": [
    {
     "name": "stdout",
     "output_type": "stream",
     "text": [
      "\n",
      "测试结果：\n",
      "X = 0.50, 预测y = 10.52, 真实y = 10.50\n",
      "X = 1.50, 预测y = 21.78, 真实y = 21.50\n",
      "X = 2.00, 预测y = 19.23, 真实y = 19.00\n"
     ]
    }
   ],
   "source": [
    "# 推理示例\n",
    "X_test = np.array([[0.5, 1], [1.5, 3], [2.0, 2]])  # 测试数据 3x2\n",
    "y_test = X_test @ W + b \n",
    "y_true = X_test @ true_W + true_b\n",
    "print(\"\\n测试结果：\")\n",
    "for x, y, y_t in zip(X_test, y_test, y_true):\n",
    "    print(f\"X = {x[0]:.2f}, 预测y = {y[0]:.2f}, 真实y = {y_t[0]:.2f}\")"
   ]
  },
  {
   "cell_type": "code",
   "execution_count": null,
   "id": "5ff951ff-e530-472f-8ab8-1ebfb04d1096",
   "metadata": {},
   "outputs": [],
   "source": []
  }
 ],
 "metadata": {
  "kernelspec": {
   "display_name": "Python 3 (ipykernel)",
   "language": "python",
   "name": "python3"
  },
  "language_info": {
   "codemirror_mode": {
    "name": "ipython",
    "version": 3
   },
   "file_extension": ".py",
   "mimetype": "text/x-python",
   "name": "python",
   "nbconvert_exporter": "python",
   "pygments_lexer": "ipython3",
   "version": "3.12.7"
  }
 },
 "nbformat": 4,
 "nbformat_minor": 5
}
