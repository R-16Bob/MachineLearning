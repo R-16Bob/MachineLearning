{
 "cells": [
  {
   "cell_type": "code",
   "execution_count": 1,
   "id": "0d682d4f-b9ff-49aa-bb3c-dc5bbf93b540",
   "metadata": {},
   "outputs": [],
   "source": [
    "import numpy as np\n",
    "\n",
    "# 生成模拟数据\n",
    "np.random.seed(42)  # 确保结果可复现\n",
    "m = 100  # 样本数量\n",
    "X = 2 * np.random.rand(m, 1)  # 输入特征，范围[0, 2)\n",
    "y = 3 * X + 5 + np.random.randn(m, 1) * 0.5  # 真实关系：y = 3X + 5 + 噪声"
   ]
  },
  {
   "cell_type": "code",
   "execution_count": 4,
   "id": "e6b00d69-0e9d-45c0-980d-58ecd209fca9",
   "metadata": {},
   "outputs": [
    {
     "data": {
      "text/plain": [
       "(100, 1)"
      ]
     },
     "execution_count": 4,
     "metadata": {},
     "output_type": "execute_result"
    }
   ],
   "source": [
    "X.shape"
   ]
  },
  {
   "cell_type": "markdown",
   "id": "a33deed9-c993-4ccc-869a-855648c635ea",
   "metadata": {},
   "source": [
    "**np.random.rand(m,1)**\n",
    "Create an array of the given shape and populate it with random samples from a uniform distribution over [0, 1).\n",
    "生成X的形状是100*1,值的范围是[0,1)，再乘2就是[0,2)"
   ]
  },
  {
   "cell_type": "code",
   "execution_count": 7,
   "id": "c851aa53-54b3-44ca-8adc-d33f2bf2a21d",
   "metadata": {},
   "outputs": [
    {
     "data": {
      "text/plain": [
       "(100, 1)"
      ]
     },
     "execution_count": 7,
     "metadata": {},
     "output_type": "execute_result"
    }
   ],
   "source": [
    "y.shape"
   ]
  },
  {
   "cell_type": "markdown",
   "id": "cbdfadfb-f2d2-4439-bc9d-ab77a618b5a5",
   "metadata": {},
   "source": [
    "y是$y=3x+5$形状不变，得到了真实值。"
   ]
  },
  {
   "cell_type": "code",
   "execution_count": 14,
   "id": "6f923b18-6276-488f-a81f-98fae206df05",
   "metadata": {},
   "outputs": [],
   "source": [
    "# 参数初始化\n",
    "W = np.zeros((1, 1))  # 权重矩阵\n",
    "b = 0.0                # 偏置项\n",
    "learning_rate = 0.1    # 学习率\n",
    "epochs = 1000          # 迭代次数"
   ]
  },
  {
   "cell_type": "code",
   "execution_count": 15,
   "id": "0e164d2d-ff88-4630-bcb6-b91d4dd7c5c0",
   "metadata": {},
   "outputs": [
    {
     "data": {
      "text/plain": [
       "array([[0.]])"
      ]
     },
     "execution_count": 15,
     "metadata": {},
     "output_type": "execute_result"
    }
   ],
   "source": [
    "W"
   ]
  },
  {
   "cell_type": "markdown",
   "id": "688c9592-192d-4024-b1ac-561e3ab0363b",
   "metadata": {},
   "source": [
    "W是1x1，这证明了实际上就是y=wx+b，X一维，有100个样本"
   ]
  },
  {
   "cell_type": "code",
   "execution_count": 16,
   "id": "6aa0877f-8f21-4dc9-9d36-d630848fbf67",
   "metadata": {},
   "outputs": [
    {
     "name": "stdout",
     "output_type": "stream",
     "text": [
      "Epoch 0, Loss: 32.1398\n",
      "Epoch 100, Loss: 0.1110\n",
      "Epoch 200, Loss: 0.1012\n",
      "Epoch 300, Loss: 0.1008\n",
      "Epoch 400, Loss: 0.1008\n",
      "Epoch 500, Loss: 0.1008\n",
      "Epoch 600, Loss: 0.1008\n",
      "Epoch 700, Loss: 0.1008\n",
      "Epoch 800, Loss: 0.1008\n",
      "Epoch 900, Loss: 0.1008\n"
     ]
    }
   ],
   "source": [
    "# 训练过程\n",
    "for epoch in range(epochs):\n",
    "    # 前向传播：计算预测值\n",
    "    y_pred = X @ W + b\n",
    "    \n",
    "    # 计算均方误差损失（带1/2系数便于求导简化）\n",
    "    loss = np.mean((y_pred - y) ** 2) / 2\n",
    "    \n",
    "    # 计算梯度\n",
    "    error = y_pred - y\n",
    "    dW = (X.T @ error) / m  # X转置与误差矩阵相乘，取平均\n",
    "    db = np.sum(error) / m   # 误差的总和取平均\n",
    "    \n",
    "    # 更新权重和偏置\n",
    "    W -= learning_rate * dW\n",
    "    b -= learning_rate * db\n",
    "    \n",
    "    # 每100次迭代打印损失\n",
    "    if epoch % 100 == 0:\n",
    "        print(f\"Epoch {epoch}, Loss: {loss:.4f}\")"
   ]
  },
  {
   "cell_type": "code",
   "execution_count": 17,
   "id": "3b521215-837c-42b4-919a-0effec752146",
   "metadata": {},
   "outputs": [
    {
     "name": "stdout",
     "output_type": "stream",
     "text": [
      "\n",
      "训练后的参数：\n",
      "W = 2.8851, b = 5.1075\n"
     ]
    }
   ],
   "source": [
    "# 输出训练后的参数\n",
    "print(\"\\n训练后的参数：\")\n",
    "print(f\"W = {W[0][0]:.4f}, b = {b:.4f}\")"
   ]
  },
  {
   "cell_type": "code",
   "execution_count": 34,
   "id": "08b55eb1-4905-4d38-8302-cd78d40d36ce",
   "metadata": {},
   "outputs": [
    {
     "name": "stdout",
     "output_type": "stream",
     "text": [
      "\n",
      "测试结果：\n",
      "X = 0.50, 预测y = 6.55, 真实y = 6.50\n",
      "X = 1.50, 预测y = 9.44, 真实y = 9.50\n",
      "X = 2.00, 预测y = 10.88, 真实y = 11.00\n"
     ]
    }
   ],
   "source": [
    "# 推理示例\n",
    "X_test = np.array([[0.5], [1.5], [2.0]])  # 测试数据 3x1\n",
    "y_test = X_test @ W + b # W:1x1 相乘结果为3x1 遍历的结果是1x1的数组，因此最后需要使用索引[0]\n",
    "w = np.array([[3]])\n",
    "y_true = X_test @ w + 5\n",
    "print(\"\\n测试结果：\")\n",
    "for x, y, y_t in zip(X_test, y_test, y_true):\n",
    "    print(f\"X = {x[0]:.2f}, 预测y = {y[0]:.2f}, 真实y = {y_t[0]:.2f}\")"
   ]
  },
  {
   "cell_type": "code",
   "execution_count": 26,
   "id": "1ff9518e-80d9-4b8a-8e71-8cf52b0778df",
   "metadata": {},
   "outputs": [
    {
     "data": {
      "text/plain": [
       "array([[0.5],\n",
       "       [1.5],\n",
       "       [2. ]])"
      ]
     },
     "execution_count": 26,
     "metadata": {},
     "output_type": "execute_result"
    }
   ],
   "source": [
    "X_test"
   ]
  },
  {
   "cell_type": "code",
   "execution_count": 31,
   "id": "0bab8699-9926-4a5d-8a5a-d4ea68054ae3",
   "metadata": {},
   "outputs": [
    {
     "name": "stdout",
     "output_type": "stream",
     "text": [
      "(2, 2)\n"
     ]
    }
   ],
   "source": [
    "arr = np.array([\n",
    "    [1,2],\n",
    "    [3,4]\n",
    "])\n",
    "print(arr.shape) "
   ]
  },
  {
   "cell_type": "code",
   "execution_count": 32,
   "id": "c0364736-ae2a-4588-8989-ffaeff99a3c7",
   "metadata": {},
   "outputs": [
    {
     "data": {
      "text/plain": [
       "array([1, 2])"
      ]
     },
     "execution_count": 32,
     "metadata": {},
     "output_type": "execute_result"
    }
   ],
   "source": [
    "arr[0]"
   ]
  },
  {
   "cell_type": "code",
   "execution_count": 33,
   "id": "9236e3f0-c7c3-47a5-97d1-7f15ccf95009",
   "metadata": {},
   "outputs": [
    {
     "data": {
      "text/plain": [
       "1"
      ]
     },
     "execution_count": 33,
     "metadata": {},
     "output_type": "execute_result"
    }
   ],
   "source": [
    "arr[0][0]"
   ]
  },
  {
   "cell_type": "markdown",
   "id": "ee189fdb-b606-420f-aa88-252cbbd1e204",
   "metadata": {},
   "source": [
    "现在明白使用索引的原因了吧？结果为[1]的数组，因此需要使用索引取其中的第一个也是全部的元素"
   ]
  },
  {
   "cell_type": "code",
   "execution_count": null,
   "id": "7e72996c-54d2-4c14-9b13-10ca93aba024",
   "metadata": {},
   "outputs": [],
   "source": []
  }
 ],
 "metadata": {
  "kernelspec": {
   "display_name": "Python 3 (ipykernel)",
   "language": "python",
   "name": "python3"
  },
  "language_info": {
   "codemirror_mode": {
    "name": "ipython",
    "version": 3
   },
   "file_extension": ".py",
   "mimetype": "text/x-python",
   "name": "python",
   "nbconvert_exporter": "python",
   "pygments_lexer": "ipython3",
   "version": "3.12.7"
  }
 },
 "nbformat": 4,
 "nbformat_minor": 5
}
